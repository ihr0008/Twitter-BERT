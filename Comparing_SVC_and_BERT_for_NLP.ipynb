{
  "nbformat": 4,
  "nbformat_minor": 0,
  "metadata": {
    "colab": {
      "name": "Comparing SVC and BERT for NLP.ipynb",
      "provenance": [],
      "toc_visible": true
    },
    "kernelspec": {
      "name": "python3",
      "display_name": "Python 3"
    },
    "accelerator": "GPU",
    "widgets": {
      "application/vnd.jupyter.widget-state+json": {
        "fe873c25ac834191aa9e145a52a15664": {
          "model_module": "@jupyter-widgets/controls",
          "model_name": "HBoxModel",
          "state": {
            "_view_name": "HBoxView",
            "_dom_classes": [],
            "_model_name": "HBoxModel",
            "_view_module": "@jupyter-widgets/controls",
            "_model_module_version": "1.5.0",
            "_view_count": null,
            "_view_module_version": "1.5.0",
            "box_style": "",
            "layout": "IPY_MODEL_3ed23f73770c436fbab71e902b4009e1",
            "_model_module": "@jupyter-widgets/controls",
            "children": [
              "IPY_MODEL_abe4287d5d4c45858f2532c1b8d43507",
              "IPY_MODEL_55d73152b3464c929d2c61a5503ba15c"
            ]
          }
        },
        "3ed23f73770c436fbab71e902b4009e1": {
          "model_module": "@jupyter-widgets/base",
          "model_name": "LayoutModel",
          "state": {
            "_view_name": "LayoutView",
            "grid_template_rows": null,
            "right": null,
            "justify_content": null,
            "_view_module": "@jupyter-widgets/base",
            "overflow": null,
            "_model_module_version": "1.2.0",
            "_view_count": null,
            "flex_flow": null,
            "width": null,
            "min_width": null,
            "border": null,
            "align_items": null,
            "bottom": null,
            "_model_module": "@jupyter-widgets/base",
            "top": null,
            "grid_column": null,
            "overflow_y": null,
            "overflow_x": null,
            "grid_auto_flow": null,
            "grid_area": null,
            "grid_template_columns": null,
            "flex": null,
            "_model_name": "LayoutModel",
            "justify_items": null,
            "grid_row": null,
            "max_height": null,
            "align_content": null,
            "visibility": null,
            "align_self": null,
            "height": null,
            "min_height": null,
            "padding": null,
            "grid_auto_rows": null,
            "grid_gap": null,
            "max_width": null,
            "order": null,
            "_view_module_version": "1.2.0",
            "grid_template_areas": null,
            "object_position": null,
            "object_fit": null,
            "grid_auto_columns": null,
            "margin": null,
            "display": null,
            "left": null
          }
        },
        "abe4287d5d4c45858f2532c1b8d43507": {
          "model_module": "@jupyter-widgets/controls",
          "model_name": "IntProgressModel",
          "state": {
            "_view_name": "ProgressView",
            "style": "IPY_MODEL_298ff207bf30428289b14d273a10c4d2",
            "_dom_classes": [],
            "description": "Downloading",
            "_model_name": "IntProgressModel",
            "bar_style": "success",
            "max": 231508,
            "_view_module": "@jupyter-widgets/controls",
            "_model_module_version": "1.5.0",
            "value": 231508,
            "_view_count": null,
            "_view_module_version": "1.5.0",
            "orientation": "horizontal",
            "min": 0,
            "description_tooltip": null,
            "_model_module": "@jupyter-widgets/controls",
            "layout": "IPY_MODEL_16d733e64a294278baabc30db6833d1d"
          }
        },
        "55d73152b3464c929d2c61a5503ba15c": {
          "model_module": "@jupyter-widgets/controls",
          "model_name": "HTMLModel",
          "state": {
            "_view_name": "HTMLView",
            "style": "IPY_MODEL_ca9cc728a9fa4e91a55045d5cbd13f87",
            "_dom_classes": [],
            "description": "",
            "_model_name": "HTMLModel",
            "placeholder": "​",
            "_view_module": "@jupyter-widgets/controls",
            "_model_module_version": "1.5.0",
            "value": "100% 232k/232k [00:00&lt;00:00, 1.24MB/s]",
            "_view_count": null,
            "_view_module_version": "1.5.0",
            "description_tooltip": null,
            "_model_module": "@jupyter-widgets/controls",
            "layout": "IPY_MODEL_7cbd5bd8829d412c9a3acbf6dffe81e6"
          }
        },
        "298ff207bf30428289b14d273a10c4d2": {
          "model_module": "@jupyter-widgets/controls",
          "model_name": "ProgressStyleModel",
          "state": {
            "_view_name": "StyleView",
            "_model_name": "ProgressStyleModel",
            "description_width": "initial",
            "_view_module": "@jupyter-widgets/base",
            "_model_module_version": "1.5.0",
            "_view_count": null,
            "_view_module_version": "1.2.0",
            "bar_color": null,
            "_model_module": "@jupyter-widgets/controls"
          }
        },
        "16d733e64a294278baabc30db6833d1d": {
          "model_module": "@jupyter-widgets/base",
          "model_name": "LayoutModel",
          "state": {
            "_view_name": "LayoutView",
            "grid_template_rows": null,
            "right": null,
            "justify_content": null,
            "_view_module": "@jupyter-widgets/base",
            "overflow": null,
            "_model_module_version": "1.2.0",
            "_view_count": null,
            "flex_flow": null,
            "width": null,
            "min_width": null,
            "border": null,
            "align_items": null,
            "bottom": null,
            "_model_module": "@jupyter-widgets/base",
            "top": null,
            "grid_column": null,
            "overflow_y": null,
            "overflow_x": null,
            "grid_auto_flow": null,
            "grid_area": null,
            "grid_template_columns": null,
            "flex": null,
            "_model_name": "LayoutModel",
            "justify_items": null,
            "grid_row": null,
            "max_height": null,
            "align_content": null,
            "visibility": null,
            "align_self": null,
            "height": null,
            "min_height": null,
            "padding": null,
            "grid_auto_rows": null,
            "grid_gap": null,
            "max_width": null,
            "order": null,
            "_view_module_version": "1.2.0",
            "grid_template_areas": null,
            "object_position": null,
            "object_fit": null,
            "grid_auto_columns": null,
            "margin": null,
            "display": null,
            "left": null
          }
        },
        "ca9cc728a9fa4e91a55045d5cbd13f87": {
          "model_module": "@jupyter-widgets/controls",
          "model_name": "DescriptionStyleModel",
          "state": {
            "_view_name": "StyleView",
            "_model_name": "DescriptionStyleModel",
            "description_width": "",
            "_view_module": "@jupyter-widgets/base",
            "_model_module_version": "1.5.0",
            "_view_count": null,
            "_view_module_version": "1.2.0",
            "_model_module": "@jupyter-widgets/controls"
          }
        },
        "7cbd5bd8829d412c9a3acbf6dffe81e6": {
          "model_module": "@jupyter-widgets/base",
          "model_name": "LayoutModel",
          "state": {
            "_view_name": "LayoutView",
            "grid_template_rows": null,
            "right": null,
            "justify_content": null,
            "_view_module": "@jupyter-widgets/base",
            "overflow": null,
            "_model_module_version": "1.2.0",
            "_view_count": null,
            "flex_flow": null,
            "width": null,
            "min_width": null,
            "border": null,
            "align_items": null,
            "bottom": null,
            "_model_module": "@jupyter-widgets/base",
            "top": null,
            "grid_column": null,
            "overflow_y": null,
            "overflow_x": null,
            "grid_auto_flow": null,
            "grid_area": null,
            "grid_template_columns": null,
            "flex": null,
            "_model_name": "LayoutModel",
            "justify_items": null,
            "grid_row": null,
            "max_height": null,
            "align_content": null,
            "visibility": null,
            "align_self": null,
            "height": null,
            "min_height": null,
            "padding": null,
            "grid_auto_rows": null,
            "grid_gap": null,
            "max_width": null,
            "order": null,
            "_view_module_version": "1.2.0",
            "grid_template_areas": null,
            "object_position": null,
            "object_fit": null,
            "grid_auto_columns": null,
            "margin": null,
            "display": null,
            "left": null
          }
        }
      }
    }
  },
  "cells": [
    {
      "cell_type": "markdown",
      "metadata": {
        "id": "noZD-AZNvZq8",
        "colab_type": "text"
      },
      "source": [
        "### The Value of Transfer Learning Part I: Using Tweets to Compare SVM and Pre-Trained BERT Classifiers\n",
        "\n",
        " - By [Isaac Revette](https:/https://ihr0008.github.io//)"
      ]
    },
    {
      "cell_type": "markdown",
      "metadata": {
        "id": "32TGbOLjazZ6",
        "colab_type": "text"
      },
      "source": [
        "# Introduction:\n",
        " - The purpose of this is to highlight the power of **transfer learning** to help avoid the cold start problem when using deep learning models.\n",
        " - I will be using the State-of-the-art BERT Model released by Google, the description of it is as follows:\n",
        " - \"*Bidirectional Encoder Representations from Transformers is a technique for NLP pre-training developed by Google. BERT was created and published in 2018 by Jacob Devlin and his colleagues from Google. Google is leveraging BERT to better understand user searches.\"*\n",
        " - The classification problem will be identifing whether a tweet is positive or negative.\n",
        " - Enjoy!\n",
        " \n"
      ]
    },
    {
      "cell_type": "markdown",
      "metadata": {
        "id": "o9-Go8AFgj7N",
        "colab_type": "text"
      },
      "source": [
        "# To identify whether a tweet is positive or negative, we will:\n",
        " - Train an Support Vector Classifier \n",
        " - Use Sklearn to train and tune the SVC\n",
        " - Use SpaCy to tokenize text for the SVC\n",
        " - Fine Tune a Pre-trained BERT Model  \n",
        " - Use the huggingface Pytorch library to tune the BERT Model\n",
        " - Compare each model on a holdout dataset of tweets\n",
        "\n"
      ]
    },
    {
      "cell_type": "markdown",
      "metadata": {
        "colab_type": "text",
        "id": "z-Q1zfpZplc_"
      },
      "source": [
        "### Load the Data from my Github Repository"
      ]
    },
    {
      "cell_type": "code",
      "metadata": {
        "colab_type": "code",
        "id": "7OG3nY8CpldP",
        "colab": {}
      },
      "source": [
        "import pandas as pd\n",
        "train = pd.read_csv(\"https://raw.githubusercontent.com/ihr0008/Twitter-BERT/master/dev.tsv\", sep =\"\\t\", names = ['id', 'label', 'alpha','tweet'],)\n",
        "test = pd.read_csv(\"https://raw.githubusercontent.com/ihr0008/Twitter-BERT/master/test.tsv\", sep =\"\\t\", names =['id', 'label', 'alpha','tweet'], skiprows=1)"
      ],
      "execution_count": 0,
      "outputs": []
    },
    {
      "cell_type": "code",
      "metadata": {
        "colab_type": "code",
        "id": "bSJeoMMfpldY",
        "colab": {}
      },
      "source": [
        "import numpy as np\n",
        "tweets = train.tweet.values\n",
        "labels = train.label.values\n",
        "labels = np.where(labels==4, 1, labels) # data has 0 & 4 in it, replace 4 with 1 for understanding\n",
        "test_tweets = test.tweet.values\n",
        "test_labels = test.label.values\n",
        "test_labels = np.where(test_labels==4, 1, test_labels) # data has 0 & 4 in it, replace 4 with 1 for understanding"
      ],
      "execution_count": 0,
      "outputs": []
    },
    {
      "cell_type": "markdown",
      "metadata": {
        "id": "GE2rrE2rlO0U",
        "colab_type": "text"
      },
      "source": [
        "# Training the SVC"
      ]
    },
    {
      "cell_type": "code",
      "metadata": {
        "id": "FHtAAxaLlidj",
        "colab_type": "code",
        "outputId": "c5e214cc-4b2b-4f8b-e4c5-3e9bef212079",
        "colab": {
          "base_uri": "https://localhost:8080/",
          "height": 50
        }
      },
      "source": [
        "import pandas as pd\n",
        "from sklearn.feature_extraction.text import CountVectorizer,TfidfVectorizer\n",
        "from sklearn.base import TransformerMixin\n",
        "from sklearn.pipeline import Pipeline\n",
        "import spacy\n",
        "import string\n",
        "from spacy.lang.en.stop_words import STOP_WORDS\n",
        "from spacy.lang.en import English\n",
        "import spacy.cli\n"
      ],
      "execution_count": 0,
      "outputs": [
        {
          "output_type": "stream",
          "text": [
            "\u001b[38;5;2m✔ Download and installation successful\u001b[0m\n",
            "You can now load the model via spacy.load('en_core_web_lg')\n"
          ],
          "name": "stdout"
        }
      ]
    },
    {
      "cell_type": "code",
      "metadata": {
        "id": "5faFHenjm4tR",
        "colab_type": "code",
        "colab": {}
      },
      "source": [
        "# Download the Large English NLP Package\n",
        "print('Be patient, this can take a lil bit...')\n",
        "#spacy.cli.download(\"en_core_web_lg\")\n",
        "\n",
        "# Load the Large English NLP Package of Spacy\n",
        "nlp = spacy.load(\"en_core_web_lg\")\n",
        "print('Large English NLP Package loaded successfully!')"
      ],
      "execution_count": 0,
      "outputs": []
    },
    {
      "cell_type": "markdown",
      "metadata": {
        "id": "G4OyORGkn6Wv",
        "colab_type": "text"
      },
      "source": [
        "## First we have to create a process to tokenize and format our tweets so the SVC can interpret them."
      ]
    },
    {
      "cell_type": "code",
      "metadata": {
        "id": "Kf4YozvRmmJQ",
        "colab_type": "code",
        "colab": {}
      },
      "source": [
        "# Create our list of punctuation marks\n",
        "punctuations = string.punctuation\n",
        "\n",
        "# Create our list of stopwords\n",
        "stop_words = spacy.lang.en.stop_words.STOP_WORDS\n",
        "\n",
        "# Load English tokenizer, tagger, parser, NER and word vectors\n",
        "parser = English()\n",
        "\n",
        "# Tokenizer function\n",
        "def spacy_tokenizer(sentence):\n",
        "    # Creating our token object\n",
        "    mytokens = parser(sentence)\n",
        "\n",
        "    # Lemmatizing each token and converting each token into lowercase\n",
        "    mytokens = [ word.lemma_.lower().strip() if word.lemma_ != \"-PRON-\" else word.lower_ for word in mytokens ]\n",
        "\n",
        "    # Removing stop words\n",
        "    mytokens = [ word for word in mytokens if word not in stop_words and word not in punctuations ]\n",
        "\n",
        "    # return preprocessed list of tokens\n",
        "    return mytokens"
      ],
      "execution_count": 0,
      "outputs": []
    },
    {
      "cell_type": "code",
      "metadata": {
        "id": "5hYu5pqPn4d3",
        "colab_type": "code",
        "colab": {}
      },
      "source": [
        "# Custom transformer using spaCy\n",
        "class predictors(TransformerMixin):\n",
        "    def transform(self, X, **transform_params):\n",
        "        # Cleaning Text\n",
        "        return [clean_text(text) for text in X]\n",
        "\n",
        "    def fit(self, X, y=None, **fit_params):\n",
        "        return self\n",
        "\n",
        "    def get_params(self, deep=True):\n",
        "        return {}\n",
        "\n",
        "# Basic function to clean the text\n",
        "def clean_text(text):\n",
        "    # Removing spaces and converting text into lowercase\n",
        "    return text.strip().lower()"
      ],
      "execution_count": 0,
      "outputs": []
    },
    {
      "cell_type": "markdown",
      "metadata": {
        "id": "IanGUiBDpER5",
        "colab_type": "text"
      },
      "source": [
        "To convert the text to vectors, I will include two ways:\n",
        " - Bag-of-Words with N-gram encoding\n",
        " - Tf-Idf (I will use Tf-Idf)"
      ]
    },
    {
      "cell_type": "code",
      "metadata": {
        "id": "JUUAN9qapDVj",
        "colab_type": "code",
        "colab": {}
      },
      "source": [
        "tfidf_vector = TfidfVectorizer(tokenizer = spacy_tokenizer)\n",
        "bow_vector = CountVectorizer(tokenizer = spacy_tokenizer, ngram_range=(1,1))"
      ],
      "execution_count": 0,
      "outputs": []
    },
    {
      "cell_type": "markdown",
      "metadata": {
        "id": "BvYM08e1qHPu",
        "colab_type": "text"
      },
      "source": [
        "## Create the Pipeline with the SVC to do the training."
      ]
    },
    {
      "cell_type": "code",
      "metadata": {
        "id": "dO7akJH0qR40",
        "colab_type": "code",
        "colab": {}
      },
      "source": [
        "from sklearn.svm import SVC\n",
        "classifier = SVC(random_state=213)\n",
        "\n",
        "# Create pipeline using Bag of Words\n",
        "pipe = Pipeline([(\"cleaner\", predictors()),\n",
        "                 ('vectorizer', tfidf_vector),\n",
        "                 ('classifier', classifier)])\n"
      ],
      "execution_count": 0,
      "outputs": []
    },
    {
      "cell_type": "markdown",
      "metadata": {
        "id": "gjCAHOQ1qftY",
        "colab_type": "text"
      },
      "source": [
        "## Split the data into training and test\n",
        " - Split will be 80/20"
      ]
    },
    {
      "cell_type": "code",
      "metadata": {
        "id": "5BofNR6wpYWA",
        "colab_type": "code",
        "colab": {}
      },
      "source": [
        "# Use train_test_split \n",
        "from sklearn.model_selection import train_test_split\n",
        "\n",
        "# Split tweets\n",
        "X_train, X_valid, y_train, y_valid = train_test_split(tweets, labels, \n",
        "                                                            random_state=213, test_size=0.1)"
      ],
      "execution_count": 0,
      "outputs": []
    },
    {
      "cell_type": "markdown",
      "metadata": {
        "id": "rdovFRx-sALY",
        "colab_type": "text"
      },
      "source": [
        "## Training of the model and Evaluation"
      ]
    },
    {
      "cell_type": "markdown",
      "metadata": {
        "id": "vgJByo88stpG",
        "colab_type": "text"
      },
      "source": [
        "### Fit the Model"
      ]
    },
    {
      "cell_type": "code",
      "metadata": {
        "id": "ABNks73TsGX7",
        "colab_type": "code",
        "outputId": "91769994-c1e3-4a39-a4e5-9f9247ce04f3",
        "colab": {
          "base_uri": "https://localhost:8080/",
          "height": 370
        }
      },
      "source": [
        "# model generation\n",
        "pipe.fit(X_train,y_train)"
      ],
      "execution_count": 0,
      "outputs": [
        {
          "output_type": "execute_result",
          "data": {
            "text/plain": [
              "Pipeline(memory=None,\n",
              "         steps=[('cleaner', <__main__.predictors object at 0x7f89451ba160>),\n",
              "                ('vectorizer',\n",
              "                 TfidfVectorizer(analyzer='word', binary=False,\n",
              "                                 decode_error='strict',\n",
              "                                 dtype=<class 'numpy.float64'>,\n",
              "                                 encoding='utf-8', input='content',\n",
              "                                 lowercase=True, max_df=1.0, max_features=None,\n",
              "                                 min_df=1, ngram_range=(1, 1), norm='l2',\n",
              "                                 preprocessor=None, smooth_idf=True,\n",
              "                                 stop_wor...\n",
              "                                 token_pattern='(?u)\\\\b\\\\w\\\\w+\\\\b',\n",
              "                                 tokenizer=<function spacy_tokenizer at 0x7f885e8a11e0>,\n",
              "                                 use_idf=True, vocabulary=None)),\n",
              "                ('classifier',\n",
              "                 SVC(C=1.0, break_ties=False, cache_size=200, class_weight=None,\n",
              "                     coef0=0.0, decision_function_shape='ovr', degree=3,\n",
              "                     gamma='scale', kernel='rbf', max_iter=-1,\n",
              "                     probability=False, random_state=None, shrinking=True,\n",
              "                     tol=0.001, verbose=False))],\n",
              "         verbose=False)"
            ]
          },
          "metadata": {
            "tags": []
          },
          "execution_count": 16
        }
      ]
    },
    {
      "cell_type": "markdown",
      "metadata": {
        "id": "ZzvwgQjXsvri",
        "colab_type": "text"
      },
      "source": [
        "### Predict with the Model"
      ]
    },
    {
      "cell_type": "code",
      "metadata": {
        "id": "9FsQ7905sHdQ",
        "colab_type": "code",
        "colab": {}
      },
      "source": [
        "\n",
        "predicted = pipe.predict(X_valid)"
      ],
      "execution_count": 0,
      "outputs": []
    },
    {
      "cell_type": "markdown",
      "metadata": {
        "id": "4Ep97rx9syYn",
        "colab_type": "text"
      },
      "source": [
        "### Evaluate Model\n"
      ]
    },
    {
      "cell_type": "markdown",
      "metadata": {
        "id": "R7dZi7r7tul3",
        "colab_type": "text"
      },
      "source": [
        "\n",
        "Look at the Precision, Recall, F1, and Accuracy"
      ]
    },
    {
      "cell_type": "code",
      "metadata": {
        "id": "tTtjC_CJs2BP",
        "colab_type": "code",
        "outputId": "fc03c2f7-3234-476d-b3b8-547c1d65ef88",
        "colab": {
          "base_uri": "https://localhost:8080/",
          "height": 168
        }
      },
      "source": [
        "from sklearn import metrics\n",
        "print(metrics.classification_report(y_valid, predicted, digits=3))"
      ],
      "execution_count": 0,
      "outputs": [
        {
          "output_type": "stream",
          "text": [
            "              precision    recall  f1-score   support\n",
            "\n",
            "           0      0.710     0.737     0.723       749\n",
            "           1      0.756     0.731     0.743       835\n",
            "\n",
            "    accuracy                          0.734      1584\n",
            "   macro avg      0.733     0.734     0.733      1584\n",
            "weighted avg      0.734     0.734     0.734      1584\n",
            "\n"
          ],
          "name": "stdout"
        }
      ]
    },
    {
      "cell_type": "markdown",
      "metadata": {
        "id": "H9JvFQCbUkO3",
        "colab_type": "text"
      },
      "source": [
        "73% accuracy is not bad for a classifier.\n",
        "\n",
        "Now Lets look at the Mathews Correlation Coefficient:\n",
        " - The scale of the MCC is from -1 to 1\n",
        " - -1 is the worst classifier\n",
        " - +1 is the best classifier"
      ]
    },
    {
      "cell_type": "code",
      "metadata": {
        "id": "0uMmdkiHUYTn",
        "colab_type": "code",
        "outputId": "ba9f0fd4-0d98-411c-8bc3-debcbe14c041",
        "colab": {
          "base_uri": "https://localhost:8080/",
          "height": 34
        }
      },
      "source": [
        "from sklearn.metrics import matthews_corrcoef\n",
        "mcc = matthews_corrcoef(y_valid, predicted)\n",
        "\n",
        "print('MCC: %.3f' % mcc)"
      ],
      "execution_count": 0,
      "outputs": [
        {
          "output_type": "stream",
          "text": [
            "MCC: 0.467\n"
          ],
          "name": "stdout"
        }
      ]
    },
    {
      "cell_type": "markdown",
      "metadata": {
        "id": "51kwgrcHt0dv",
        "colab_type": "text"
      },
      "source": [
        "A decent MCC, its at least above 0.\n",
        "\n",
        "Now lets plot the Area Under the Curve (AUC) / ROC Curve"
      ]
    },
    {
      "cell_type": "code",
      "metadata": {
        "id": "yi3mkKFJuE03",
        "colab_type": "code",
        "outputId": "7ca5ed1b-bd86-474a-8185-50160089d89d",
        "colab": {
          "base_uri": "https://localhost:8080/",
          "height": 295
        }
      },
      "source": [
        "import matplotlib.pyplot as plt\n",
        "\n",
        "# Retrieve the ROC/AUC\n",
        "fpr, tpr, threshold = metrics.roc_curve(y_valid, predicted)\n",
        "roc_auc = metrics.auc(fpr, tpr)\n",
        "\n",
        "\n",
        "# Plot the ROC/AUC\n",
        "plt.title('Receiver Operating Characteristic')\n",
        "plt.plot(fpr, tpr, 'b', label = 'AUC = %0.2f' % roc_auc)\n",
        "plt.legend(loc = 'lower right')\n",
        "plt.plot([0, 1], [0, 1],'r--')\n",
        "plt.xlim([0, 1])\n",
        "plt.ylim([0, 1])\n",
        "plt.ylabel('True Positive Rate')\n",
        "plt.xlabel('False Positive Rate')\n",
        "plt.show()\n"
      ],
      "execution_count": 0,
      "outputs": [
        {
          "output_type": "display_data",
          "data": {
            "image/png": "[encoded data removed]",
            "text/plain": [
              "<Figure size 432x288 with 1 Axes>"
            ]
          },
          "metadata": {
            "tags": []
          }
        }
      ]
    },
    {
      "cell_type": "markdown",
      "metadata": {
        "id": "tihd8KNqtLda",
        "colab_type": "text"
      },
      "source": [
        "The initial Model with no hyper tuning performed well. The red line represents the equivalent of random guessing. The closer the blue line is to be a right angle in the top left, the better the classifier is performing.\n"
      ]
    },
    {
      "cell_type": "markdown",
      "metadata": {
        "id": "qRbGP7fRlUbQ",
        "colab_type": "text"
      },
      "source": [
        "# Tuning the BERT Model"
      ]
    },
    {
      "cell_type": "markdown",
      "metadata": {
        "id": "pG-PE43hhuOc",
        "colab_type": "text"
      },
      "source": [
        "### The first step is to identify the GPU we will use perform the training.\n"
      ]
    },
    {
      "cell_type": "code",
      "metadata": {
        "id": "yiR9NC1BgPty",
        "colab_type": "code",
        "outputId": "04b7eb18-8a40-4827-cc9d-2f236ef7bd1e",
        "colab": {
          "base_uri": "https://localhost:8080/",
          "height": 79
        }
      },
      "source": [
        "import tensorflow as tf\n",
        "\n",
        "# Get the GPU device name.\n",
        "device_name = tf.test.gpu_device_name()\n",
        "\n",
        "# The device name should look like the following:\n",
        "if device_name == '/device:GPU:0':\n",
        "    print('Found GPU at: {}'.format(device_name))\n",
        "else:\n",
        "    raise SystemError('GPU device not found')"
      ],
      "execution_count": 0,
      "outputs": [
        {
          "output_type": "display_data",
          "data": {
            "text/html": [
              "<p style=\"color: red;\">\n",
              "The default version of TensorFlow in Colab will soon switch to TensorFlow 2.x.<br>\n",
              "We recommend you <a href=\"https://www.tensorflow.org/guide/migrate\" target=\"_blank\">upgrade</a> now \n",
              "or ensure your notebook will continue to use TensorFlow 1.x via the <code>%tensorflow_version 1.x</code> magic:\n",
              "<a href=\"https://colab.research.google.com/notebooks/tensorflow_version.ipynb\" target=\"_blank\">more info</a>.</p>\n"
            ],
            "text/plain": [
              "<IPython.core.display.HTML object>"
            ]
          },
          "metadata": {
            "tags": []
          }
        },
        {
          "output_type": "stream",
          "text": [
            "Found GPU at: /device:GPU:0\n"
          ],
          "name": "stdout"
        }
      ]
    },
    {
      "cell_type": "code",
      "metadata": {
        "id": "a73RKrjFg3kJ",
        "colab_type": "code",
        "outputId": "af6a4ea5-7ce6-4820-ba05-9d1bb1bae370",
        "colab": {
          "base_uri": "https://localhost:8080/",
          "height": 50
        }
      },
      "source": [
        "import torch\n",
        "\n",
        "#Look for GPU\n",
        "if torch.cuda.is_available():    \n",
        "\n",
        "    # Tell PyTorch to use the GPU.    \n",
        "    device = torch.device(\"cuda\")\n",
        "\n",
        "    print('There are %d GPU(s) available.' % torch.cuda.device_count())\n",
        "\n",
        "    print('We will use the GPU:', torch.cuda.get_device_name(0))\n",
        "\n",
        "else:\n",
        "    print('No GPU available, using the CPU instead.')\n",
        "    device = torch.device(\"cpu\")"
      ],
      "execution_count": 0,
      "outputs": [
        {
          "output_type": "stream",
          "text": [
            "There are 1 GPU(s) available.\n",
            "We will use the GPU: Tesla P100-PCIE-16GB\n"
          ],
          "name": "stdout"
        }
      ]
    },
    {
      "cell_type": "code",
      "metadata": {
        "id": "IGcXWMn1hK-x",
        "colab_type": "code",
        "colab": {}
      },
      "source": [
        "\n",
        "!pip install transformers"
      ],
      "execution_count": 0,
      "outputs": []
    },
    {
      "cell_type": "markdown",
      "metadata": {
        "id": "B6UzP2vZn5uz",
        "colab_type": "text"
      },
      "source": [
        "## Next we must tokenize the sentences with  BERTs Tokenizer"
      ]
    },
    {
      "cell_type": "code",
      "metadata": {
        "id": "sj9eiNK3n_wj",
        "colab_type": "code",
        "outputId": "4f94e469-e4e4-4cc0-a20c-c19345c711f2",
        "colab": {
          "base_uri": "https://localhost:8080/",
          "height": 82,
          "referenced_widgets": [
            "fe873c25ac834191aa9e145a52a15664",
            "3ed23f73770c436fbab71e902b4009e1",
            "abe4287d5d4c45858f2532c1b8d43507",
            "55d73152b3464c929d2c61a5503ba15c",
            "298ff207bf30428289b14d273a10c4d2",
            "16d733e64a294278baabc30db6833d1d",
            "ca9cc728a9fa4e91a55045d5cbd13f87",
            "7cbd5bd8829d412c9a3acbf6dffe81e6"
          ]
        }
      },
      "source": [
        "from transformers import BertTokenizer\n",
        "\n",
        "# Load the BERT tokenizer\n",
        "print('Loading BERT tokenizer...')\n",
        "tokenizer = BertTokenizer.from_pretrained('bert-base-uncased', do_lower_case=True)"
      ],
      "execution_count": 0,
      "outputs": [
        {
          "output_type": "stream",
          "text": [
            "Loading BERT tokenizer...\n"
          ],
          "name": "stdout"
        },
        {
          "output_type": "display_data",
          "data": {
            "application/vnd.jupyter.widget-view+json": {
              "model_id": "fe873c25ac834191aa9e145a52a15664",
              "version_minor": 0,
              "version_major": 2
            },
            "text/plain": [
              "HBox(children=(IntProgress(value=0, description='Downloading', max=231508, style=ProgressStyle(description_wid…"
            ]
          },
          "metadata": {
            "tags": []
          }
        },
        {
          "output_type": "stream",
          "text": [
            "\n"
          ],
          "name": "stdout"
        }
      ]
    },
    {
      "cell_type": "markdown",
      "metadata": {
        "id": "RgUD3--QoSqi",
        "colab_type": "text"
      },
      "source": [
        "Lets test the tokenizer on one tweet:"
      ]
    },
    {
      "cell_type": "code",
      "metadata": {
        "id": "A87mdSQhoK03",
        "colab_type": "code",
        "outputId": "8cc8394e-b551-4409-85fe-94d74e351d78",
        "colab": {
          "base_uri": "https://localhost:8080/",
          "height": 67
        }
      },
      "source": [
        "# Original Tweet:\n",
        "print(' Original: ', tweets[99])\n",
        "\n",
        "# Split into Tokens:\n",
        "print('Tokenized: ', tokenizer.tokenize(tweets[99]))\n",
        "\n",
        "# Token ids:\n",
        "print('Token IDs: ', tokenizer.convert_tokens_to_ids(tokenizer.tokenize(tweets[99])))"
      ],
      "execution_count": 0,
      "outputs": [
        {
          "output_type": "stream",
          "text": [
            " Original:  Writing interrupted by French Open tennis. \n",
            "Tokenized:  ['writing', 'interrupted', 'by', 'french', 'open', 'tennis', '.']\n",
            "Token IDs:  [3015, 7153, 2011, 2413, 2330, 5093, 1012]\n"
          ],
          "name": "stdout"
        }
      ]
    },
    {
      "cell_type": "markdown",
      "metadata": {
        "id": "gfyiBt5Yq-pE",
        "colab_type": "text"
      },
      "source": [
        "First we have to convert the tweets to Token IDs and add the [CLS] and [SEP] tokens that BERT requires."
      ]
    },
    {
      "cell_type": "code",
      "metadata": {
        "id": "7r-CFJD3ooOP",
        "colab_type": "code",
        "outputId": "d3242f77-b762-4787-f1bc-4d507976dacd",
        "colab": {
          "base_uri": "https://localhost:8080/",
          "height": 50
        }
      },
      "source": [
        "# Tokenize all of the sentences and map the tokens to thier word IDs\n",
        "tweet_ids = []\n",
        "\n",
        "for tweet in tweets:\n",
        "\n",
        "    encoded_tweet = tokenizer.encode(\n",
        "                        tweet,                      # Sentence to encode.\n",
        "                        add_special_tokens = True, # Add '[CLS]' and '[SEP]\n",
        "    )\n",
        "    # Add the encoded sentence to the list\n",
        "    tweet_ids.append(encoded_tweet)\n",
        "\n",
        "# How Tweet and its IDs\n",
        "print('Original: ', tweets[99])\n",
        "print('Token IDs:', tweet_ids[99])\n",
        "\n",
        "# Notice the Token IDs are different then above, thats the [CLS] and [SEP] Tokens\n",
        "# Cool stuff ;)"
      ],
      "execution_count": 0,
      "outputs": [
        {
          "output_type": "stream",
          "text": [
            "Original:  Writing interrupted by French Open tennis. \n",
            "Token IDs: [101, 3015, 7153, 2011, 2413, 2330, 5093, 1012, 102]\n"
          ],
          "name": "stdout"
        }
      ]
    },
    {
      "cell_type": "markdown",
      "metadata": {
        "id": "4bcFxDE0rMlk",
        "colab_type": "text"
      },
      "source": [
        "We now have tweets as Token IDs with the special [CLS] and [SEP] Tokens added. \n",
        "\n",
        "Next we must pad and truncate the tweets so they the same length."
      ]
    },
    {
      "cell_type": "code",
      "metadata": {
        "id": "5xiO6I7Fq6N-",
        "colab_type": "code",
        "outputId": "ae30fefc-51d1-4fa8-e4bd-2be9fef6f1b5",
        "colab": {
          "base_uri": "https://localhost:8080/",
          "height": 34
        }
      },
      "source": [
        "# Lets check the longest Tweet in our dataset\n",
        "print('Max tweet length: ', max([len(tweet) for tweet in tweet_ids]))"
      ],
      "execution_count": 0,
      "outputs": [
        {
          "output_type": "stream",
          "text": [
            "Max tweet length:  125\n"
          ],
          "name": "stdout"
        }
      ]
    },
    {
      "cell_type": "markdown",
      "metadata": {
        "id": "SUCvCoWPsUqO",
        "colab_type": "text"
      },
      "source": [
        "While in our data the maximum is only 125, I think its worth using 280 because that is how long tweets can be."
      ]
    },
    {
      "cell_type": "code",
      "metadata": {
        "id": "4gjM-nKIs16i",
        "colab_type": "code",
        "outputId": "41e263a4-65ed-4265-aca9-02b19cff8e3e",
        "colab": {
          "base_uri": "https://localhost:8080/",
          "height": 134
        }
      },
      "source": [
        "# Use Keras Pad Sequence function\n",
        "from keras.preprocessing.sequence import pad_sequences\n",
        "\n",
        "#Set max length of input \n",
        "MAX_LEN = 284 # I added a few more than 280 just in case\n",
        "\n",
        "print('\\nPadding/truncating all sentences to %d values...' % MAX_LEN)\n",
        "\n",
        "print('\\nPadding token: \"{:}\", ID: {:}'.format(tokenizer.pad_token, tokenizer.pad_token_id))\n",
        "\n",
        "# Pad our input tokens with value 0\n",
        "# \"post\" indicates that we want to pad and truncate at the end of the tweet\n",
        "tweet_ids = pad_sequences(tweet_ids, maxlen=MAX_LEN, dtype=\"long\", \n",
        "                          value=0, truncating=\"post\", padding=\"post\")\n",
        "\n",
        "print('\\nDone.')"
      ],
      "execution_count": 0,
      "outputs": [
        {
          "output_type": "stream",
          "text": [
            "\n",
            "Padding/truncating all sentences to 284 values...\n",
            "\n",
            "Padding token: \"[PAD]\", ID: 0\n",
            "\n",
            "Done.\n"
          ],
          "name": "stdout"
        },
        {
          "output_type": "stream",
          "text": [
            "Using TensorFlow backend.\n"
          ],
          "name": "stderr"
        }
      ]
    },
    {
      "cell_type": "markdown",
      "metadata": {
        "id": "OOvQ4u3CtxWq",
        "colab_type": "text"
      },
      "source": [
        "Now we have to tell BERT what is padding and what is a word using **attention masks**.\n",
        " - We can use 0 to refer to padding because BERT doesnt use that token ID\n",
        " "
      ]
    },
    {
      "cell_type": "code",
      "metadata": {
        "id": "21ZEKeZytqhB",
        "colab_type": "code",
        "colab": {}
      },
      "source": [
        "#Attention Masking\n",
        "attention_masks = []\n",
        "\n",
        "for tweet in tweet_ids:\n",
        "    \n",
        "    att_mask = [int(token_id > 0) for token_id in tweet]\n",
        "\n",
        "    attention_masks.append(att_mask)"
      ],
      "execution_count": 0,
      "outputs": []
    },
    {
      "cell_type": "markdown",
      "metadata": {
        "id": "r3U6uQvUusZ_",
        "colab_type": "text"
      },
      "source": [
        "## Now we can split our training data into training and validation (90/10):"
      ]
    },
    {
      "cell_type": "code",
      "metadata": {
        "id": "3c53CCSfuk1L",
        "colab_type": "code",
        "colab": {}
      },
      "source": [
        "# Use train_test_split \n",
        "from sklearn.model_selection import train_test_split\n",
        "\n",
        "# Split tweets\n",
        "train_inputs, validation_inputs, train_labels, validation_labels = train_test_split(tweet_ids, labels, \n",
        "                                                            random_state=213, test_size=0.1)\n",
        "# Split masks too\n",
        "train_masks, validation_masks, _, _ = train_test_split(attention_masks, labels,\n",
        "                                             random_state=213, test_size=0.1)"
      ],
      "execution_count": 0,
      "outputs": []
    },
    {
      "cell_type": "markdown",
      "metadata": {
        "id": "8FB60XtjvaPS",
        "colab_type": "text"
      },
      "source": [
        "## The model needs PyTorch Tensors rather than numpy arrays so we need to convert them.\n",
        "\n"
      ]
    },
    {
      "cell_type": "code",
      "metadata": {
        "id": "Yq_j76lCvRUc",
        "colab_type": "code",
        "colab": {}
      },
      "source": [
        "#Convert to pytorch tensor\n",
        "train_inputs = torch.tensor(train_inputs)\n",
        "validation_inputs = torch.tensor(validation_inputs)\n",
        "\n",
        "train_labels = torch.tensor(train_labels)\n",
        "validation_labels = torch.tensor(validation_labels)\n",
        "\n",
        "train_masks = torch.tensor(train_masks)\n",
        "validation_masks = torch.tensor(validation_masks)"
      ],
      "execution_count": 0,
      "outputs": []
    },
    {
      "cell_type": "markdown",
      "metadata": {
        "id": "ki-SfC8jggRR",
        "colab_type": "text"
      },
      "source": [
        "Create an iterator for the data using the torch DataLoader class to save on memory:\n"
      ]
    },
    {
      "cell_type": "code",
      "metadata": {
        "id": "i-p5cLtAxWkW",
        "colab_type": "code",
        "colab": {}
      },
      "source": [
        "from torch.utils.data import TensorDataset, DataLoader, RandomSampler, SequentialSampler\n",
        "\n",
        "# The DataLoader needs to know our batch size for training (16 or 32 is recommended)\n",
        "\n",
        "batch_size = 32\n",
        "\n",
        "# Create the DataLoader for our training set:\n",
        "train_data = TensorDataset(train_inputs, train_masks, train_labels)\n",
        "train_sampler = RandomSampler(train_data) #Random for training data\n",
        "train_dataloader = DataLoader(train_data, sampler=train_sampler, batch_size=batch_size)\n",
        "\n",
        "# Create the DataLoader for our validation set:\n",
        "validation_data = TensorDataset(validation_inputs, validation_masks, validation_labels)\n",
        "validation_sampler = SequentialSampler(validation_data) #Sequential for validation data\n",
        "validation_dataloader = DataLoader(validation_data, sampler=validation_sampler, batch_size=batch_size)\n"
      ],
      "execution_count": 0,
      "outputs": []
    },
    {
      "cell_type": "markdown",
      "metadata": {
        "id": "L45AeRkRMo2j",
        "colab_type": "text"
      },
      "source": [
        "### If you are going to load the model and not train it, run cell below.\n"
      ]
    },
    {
      "cell_type": "code",
      "metadata": {
        "id": "avGA-egHMyer",
        "colab_type": "code",
        "colab": {}
      },
      "source": [
        "from transformers import *\n",
        "import numpy as np\n",
        "import time\n",
        "import datetime\n",
        "import random\n",
        "def flat_accuracy(preds, labels):\n",
        "    pred_flat = np.argmax(preds, axis=1).flatten()\n",
        "    labels_flat = labels.flatten()\n",
        "    return np.sum(pred_flat == labels_flat) / len(labels_flat)\n",
        "\n",
        "\n",
        "def format_time(elapsed):\n",
        "    # Takes time in seconds and returns a time string (hh:mm:ss)\n",
        "    elapsed_rounded = int(round((elapsed)))\n",
        "\n",
        "    return str(datetime.timedelta(seconds=elapsed_rounded))"
      ],
      "execution_count": 0,
      "outputs": []
    },
    {
      "cell_type": "markdown",
      "metadata": {
        "id": "edCteVlBxu3s",
        "colab_type": "text"
      },
      "source": [
        "## Now we begin the process of tuning our Pre-trained BERT Model. \n",
        " - We will use huggingface's BertForSequenceClassification model\n",
        " - This will take a while (1 hour for me)\n",
        " - If you have model saved already, do not run this and skip to loading further down\n",
        " "
      ]
    },
    {
      "cell_type": "code",
      "metadata": {
        "id": "GhapfLQix2Ld",
        "colab_type": "code",
        "colab": {}
      },
      "source": [
        "from transformers import BertForSequenceClassification, AdamW, BertConfig\n",
        "# Initial Model\n",
        "initial_model = BertForSequenceClassification.from_pretrained(\n",
        "    \"bert-base-uncased\", # Use the 12-layer BERT model, with an uncased vocab and base (small) size\n",
        "    num_labels = 2, # The number of output labels--2 for binary classification (You can increase this for multi-class tasks)  \n",
        "    output_attentions = False, # Whether the model returns attentions weights.\n",
        "    output_hidden_states = False, # Whether the model returns all hidden-states.\n",
        ")\n",
        "\n",
        "\n",
        "# Tell pytorch to run this model on the GPU\n",
        "model.cuda()"
      ],
      "execution_count": 0,
      "outputs": []
    },
    {
      "cell_type": "markdown",
      "metadata": {
        "id": "hyuXSNhczkpS",
        "colab_type": "text"
      },
      "source": [
        "### We can decide our optimization and learning rates for the model.\n",
        " - We will use a learning rate of 2e-5 \n",
        " - For our Optimizer, we will use the AdamW optimizer"
      ]
    },
    {
      "cell_type": "code",
      "metadata": {
        "id": "_OCCSw5j0zaI",
        "colab_type": "code",
        "colab": {}
      },
      "source": [
        "# Use the AdamW optimizer from huggingface\n",
        "optimizer = AdamW(model.parameters(),\n",
        "                  lr = 2e-5, \n",
        "                  eps = 1e-8 # a small number to prevent any division by 0\n",
        "                )"
      ],
      "execution_count": 0,
      "outputs": []
    },
    {
      "cell_type": "code",
      "metadata": {
        "id": "jgKwIZ2V1Edh",
        "colab_type": "code",
        "colab": {}
      },
      "source": [
        "from transformers import get_linear_schedule_with_warmup\n",
        "\n",
        "# Number of training epochs (authors recommend between 2 and 4)\n",
        "epochs = 4\n",
        "\n",
        "# Total number of training steps is number of batches * number of epochs (we chose a batch size of 32 so 32*4)\n",
        "total_steps = len(train_dataloader) * epochs\n",
        "\n",
        "# Learning rate scheduler\n",
        "scheduler = get_linear_schedule_with_warmup(optimizer, \n",
        "                                            num_warmup_steps = 0, \n",
        "                                            num_training_steps = total_steps)"
      ],
      "execution_count": 0,
      "outputs": []
    },
    {
      "cell_type": "markdown",
      "metadata": {
        "id": "VXXfisvh16rr",
        "colab_type": "text"
      },
      "source": [
        "Heres a function to help define accuracy and format time:"
      ]
    },
    {
      "cell_type": "code",
      "metadata": {
        "id": "gbi75R-D19AE",
        "colab_type": "code",
        "colab": {}
      },
      "source": [
        "import numpy as np\n",
        "import time\n",
        "import datetime\n",
        "import random\n",
        "def flat_accuracy(preds, labels):\n",
        "    pred_flat = np.argmax(preds, axis=1).flatten()\n",
        "    labels_flat = labels.flatten()\n",
        "    return np.sum(pred_flat == labels_flat) / len(labels_flat)\n",
        "\n",
        "\n",
        "def format_time(elapsed):\n",
        "    # Takes time in seconds and returns a time string (hh:mm:ss)\n",
        "    elapsed_rounded = int(round((elapsed)))\n",
        "\n",
        "    return str(datetime.timedelta(seconds=elapsed_rounded))"
      ],
      "execution_count": 0,
      "outputs": []
    },
    {
      "cell_type": "markdown",
      "metadata": {
        "id": "ruLMfmFW2A1o",
        "colab_type": "text"
      },
      "source": [
        "### This is the training loop for the model, note:\n",
        " - There is a lot going, but most of it is to make it pretty.\n",
        " - I did not write this loop code from scratch, its based on the run_glue.py script"
      ]
    },
    {
      "cell_type": "code",
      "metadata": {
        "id": "mJnIZ4A82b42",
        "colab_type": "code",
        "outputId": "571ebb5e-9237-4937-c996-d838c9022067",
        "colab": {
          "base_uri": "https://localhost:8080/",
          "height": 1000
        }
      },
      "source": [
        "import random\n",
        "\n",
        "# This training code is based on the `run_glue.py` script here:\n",
        "# https://github.com/huggingface/transformers/blob/5bfcd0485ece086ebcbed2d008813037968a9e58/examples/run_glue.py#L128\n",
        "\n",
        "\n",
        "# Set the seed value all over the place to make this reproducible.\n",
        "seed = 213\n",
        "\n",
        "random.seed(seed)\n",
        "np.random.seed(seed)\n",
        "torch.manual_seed(seed)\n",
        "torch.cuda.manual_seed_all(seed)\n",
        "\n",
        "# Store the average loss after each epoch so we can plot them.\n",
        "loss_values = []\n",
        "\n",
        "# for each epoch\n",
        "for epoch_i in range(0, epochs):\n",
        "    \n",
        "    # ========================================\n",
        "    #               Training\n",
        "    # ========================================\n",
        "    \n",
        "    # Perform one full pass over the training set.\n",
        "\n",
        "    print(\"\")\n",
        "    print('======== Epoch {:} / {:} ========'.format(epoch_i + 1, epochs))\n",
        "    print('Training...')\n",
        "\n",
        "    # Measure how long the training epoch takes.\n",
        "    t0 = time.time()\n",
        "\n",
        "    # Reset the total loss for this epoch.\n",
        "    total_loss = 0\n",
        "\n",
        "    # Put the model into training mode. Don't be mislead--the call to \n",
        "    # `train` just changes the *mode*, it doesn't *perform* the training.\n",
        "    # `dropout` and `batchnorm` layers behave differently during training\n",
        "    # vs. test (source: https://stackoverflow.com/questions/51433378/what-does-model-train-do-in-pytorch)\n",
        "    initial_model.train()\n",
        "\n",
        "    # For each batch of training data\n",
        "    for step, batch in enumerate(train_dataloader):\n",
        "\n",
        "        # Progress update every 40 batches.\n",
        "        if step % 40 == 0 and not step == 0:\n",
        "            # Calculate elapsed time in minutes.\n",
        "            elapsed = format_time(time.time() - t0)\n",
        "            \n",
        "            # Report progress.\n",
        "            print('  Batch {:>5,}  of  {:>5,}.    Elapsed: {:}.'.format(step, len(train_dataloader), elapsed))\n",
        "\n",
        "        # Unpack this training batch from our dataloader. \n",
        "        #\n",
        "        # As we unpack the batch, we'll also copy each tensor to the GPU using the \n",
        "        # `to` method.\n",
        "        #\n",
        "        # `batch` contains three pytorch tensors:\n",
        "        #   [0]: input ids \n",
        "        #   [1]: attention masks\n",
        "        #   [2]: labels \n",
        "        b_input_ids = batch[0].to(device)\n",
        "        b_input_mask = batch[1].to(device)\n",
        "        b_labels = batch[2].to(device)\n",
        "\n",
        "        # Always clear any previously calculated gradients before performing a\n",
        "        # backward pass. PyTorch doesn't do this automatically because \n",
        "        # accumulating the gradients is \"convenient while training RNNs\". \n",
        "        # (source: https://stackoverflow.com/questions/48001598/why-do-we-need-to-call-zero-grad-in-pytorch)\n",
        "        initial_model.zero_grad()        \n",
        "\n",
        "        # Perform a forward pass (evaluate the model on this training batch).\n",
        "        # This will return the loss (rather than the model output) because we\n",
        "        # have provided the `labels`.\n",
        "        # The documentation for this `model` function is here: \n",
        "        # https://huggingface.co/transformers/v2.2.0/model_doc/bert.html#transformers.BertForSequenceClassification\n",
        "        outputs = initial_model(b_input_ids, \n",
        "                    token_type_ids=None, \n",
        "                    attention_mask=b_input_mask, \n",
        "                    labels=b_labels)\n",
        "        \n",
        "        # The call to `model` always returns a tuple, so we need to pull the \n",
        "        # loss value out of the tuple.\n",
        "        loss = outputs[0]\n",
        "\n",
        "        # Accumulate the training loss over all of the batches so that we can\n",
        "        # calculate the average loss at the end. `loss` is a Tensor containing a\n",
        "        # single value; the `.item()` function just returns the Python value \n",
        "        # from the tensor.\n",
        "        total_loss += loss.item()\n",
        "\n",
        "        # Perform a backward pass to calculate the gradients.\n",
        "        loss.backward()\n",
        "\n",
        "        # Clip the norm of the gradients to 1.0.\n",
        "        # This is to help prevent the \"exploding gradients\" problem.\n",
        "        torch.nn.utils.clip_grad_norm_(initial_model.parameters(), 1.0)\n",
        "\n",
        "        # Update parameters and take a step using the computed gradient.\n",
        "        # The optimizer dictates the \"update rule\"--how the parameters are\n",
        "        # modified based on their gradients, the learning rate, etc.\n",
        "        optimizer.step()\n",
        "\n",
        "        # Update the learning rate.\n",
        "        scheduler.step()\n",
        "\n",
        "    # Calculate the average loss over the training data.\n",
        "    avg_train_loss = total_loss / len(train_dataloader)            \n",
        "    \n",
        "    # Store the loss value for plotting the learning curve.\n",
        "    loss_values.append(avg_train_loss)\n",
        "\n",
        "    print(\"\")\n",
        "    print(\"  Average training loss: {0:.2f}\".format(avg_train_loss))\n",
        "    print(\"  Training epcoh took: {:}\".format(format_time(time.time() - t0)))\n",
        "        \n",
        "    # ========================================\n",
        "    #               Validation\n",
        "    # ========================================\n",
        "    # After the completion of each training epoch, measure our performance on\n",
        "    # our validation set.\n",
        "\n",
        "    print(\"\")\n",
        "    print(\"Running Validation...\")\n",
        "\n",
        "    t0 = time.time()\n",
        "\n",
        "    # Put the model in evaluation mode--the dropout layers behave differently\n",
        "    # during evaluation.\n",
        "    initial_model.eval()\n",
        "\n",
        "    # Tracking variables \n",
        "    eval_loss, eval_accuracy = 0, 0\n",
        "    nb_eval_steps, nb_eval_examples = 0, 0\n",
        "\n",
        "    # Evaluate data for one epoch\n",
        "    for batch in validation_dataloader:\n",
        "        \n",
        "        # Add batch to GPU\n",
        "        batch = tuple(t.to(device) for t in batch)\n",
        "        \n",
        "        # Unpack the inputs from our dataloader\n",
        "        b_input_ids, b_input_mask, b_labels = batch\n",
        "        \n",
        "        # Telling the model not to compute or store gradients, saving memory and\n",
        "        # speeding up validation\n",
        "        with torch.no_grad():        \n",
        "\n",
        "            # Forward pass, calculate logit predictions.\n",
        "            # This will return the logits rather than the loss because we have\n",
        "            # not provided labels.\n",
        "            # token_type_ids is the same as the \"segment ids\", which \n",
        "            # differentiates sentence 1 and 2 in 2-sentence tasks.\n",
        "            # The documentation for this `model` function is here: \n",
        "            # https://huggingface.co/transformers/v2.2.0/model_doc/bert.html#transformers.BertForSequenceClassification\n",
        "            outputs = initial_model(b_input_ids, \n",
        "                            token_type_ids=None, \n",
        "                            attention_mask=b_input_mask)\n",
        "        \n",
        "        # Get the \"logits\" output by the model. The \"logits\" are the output\n",
        "        # values prior to applying an activation function like the softmax.\n",
        "        logits = outputs[0]\n",
        "\n",
        "        # Move logits and labels to CPU\n",
        "        logits = logits.detach().cpu().numpy()\n",
        "        label_ids = b_labels.to('cpu').numpy()\n",
        "        \n",
        "        # Calculate the accuracy for this batch of test sentences.\n",
        "        tmp_eval_accuracy = flat_accuracy(logits, label_ids)\n",
        "        \n",
        "        # Accumulate the total accuracy.\n",
        "        eval_accuracy += tmp_eval_accuracy\n",
        "\n",
        "        # Track the number of batches\n",
        "        nb_eval_steps += 1\n",
        "\n",
        "    # Report the final accuracy for this validation run.\n",
        "    print(\"  Accuracy: {0:.2f}\".format(eval_accuracy/nb_eval_steps))\n",
        "    print(\"  Validation took: {:}\".format(format_time(time.time() - t0)))\n",
        "\n",
        "print(\"\")\n",
        "print(\"Training complete!\")"
      ],
      "execution_count": 0,
      "outputs": [
        {
          "output_type": "stream",
          "text": [
            "\n",
            "======== Epoch 1 / 4 ========\n",
            "Training...\n",
            "  Batch    40  of    446.    Elapsed: 0:01:04.\n",
            "  Batch    80  of    446.    Elapsed: 0:02:12.\n",
            "  Batch   120  of    446.    Elapsed: 0:03:19.\n",
            "  Batch   160  of    446.    Elapsed: 0:04:26.\n",
            "  Batch   200  of    446.    Elapsed: 0:05:34.\n",
            "  Batch   240  of    446.    Elapsed: 0:06:41.\n",
            "  Batch   280  of    446.    Elapsed: 0:07:48.\n",
            "  Batch   320  of    446.    Elapsed: 0:08:56.\n",
            "  Batch   360  of    446.    Elapsed: 0:10:03.\n",
            "  Batch   400  of    446.    Elapsed: 0:11:10.\n",
            "  Batch   440  of    446.    Elapsed: 0:12:18.\n",
            "\n",
            "  Average training loss: 0.46\n",
            "  Training epcoh took: 0:12:27\n",
            "\n",
            "Running Validation...\n",
            "  Accuracy: 0.80\n",
            "  Validation took: 0:00:31\n",
            "\n",
            "======== Epoch 2 / 4 ========\n",
            "Training...\n",
            "  Batch    40  of    446.    Elapsed: 0:01:07.\n",
            "  Batch    80  of    446.    Elapsed: 0:02:15.\n",
            "  Batch   120  of    446.    Elapsed: 0:03:22.\n",
            "  Batch   160  of    446.    Elapsed: 0:04:29.\n",
            "  Batch   200  of    446.    Elapsed: 0:05:37.\n",
            "  Batch   240  of    446.    Elapsed: 0:06:44.\n",
            "  Batch   280  of    446.    Elapsed: 0:07:51.\n",
            "  Batch   320  of    446.    Elapsed: 0:08:58.\n",
            "  Batch   360  of    446.    Elapsed: 0:10:06.\n",
            "  Batch   400  of    446.    Elapsed: 0:11:13.\n",
            "  Batch   440  of    446.    Elapsed: 0:12:20.\n",
            "\n",
            "  Average training loss: 0.31\n",
            "  Training epcoh took: 0:12:30\n",
            "\n",
            "Running Validation...\n",
            "  Accuracy: 0.83\n",
            "  Validation took: 0:00:31\n",
            "\n",
            "======== Epoch 3 / 4 ========\n",
            "Training...\n",
            "  Batch    40  of    446.    Elapsed: 0:01:07.\n",
            "  Batch    80  of    446.    Elapsed: 0:02:15.\n",
            "  Batch   120  of    446.    Elapsed: 0:03:22.\n",
            "  Batch   160  of    446.    Elapsed: 0:04:29.\n",
            "  Batch   200  of    446.    Elapsed: 0:05:36.\n",
            "  Batch   240  of    446.    Elapsed: 0:06:44.\n",
            "  Batch   280  of    446.    Elapsed: 0:07:51.\n",
            "  Batch   320  of    446.    Elapsed: 0:08:58.\n",
            "  Batch   360  of    446.    Elapsed: 0:10:06.\n",
            "  Batch   400  of    446.    Elapsed: 0:11:13.\n",
            "  Batch   440  of    446.    Elapsed: 0:12:20.\n",
            "\n",
            "  Average training loss: 0.20\n",
            "  Training epcoh took: 0:12:30\n",
            "\n",
            "Running Validation...\n",
            "  Accuracy: 0.82\n",
            "  Validation took: 0:00:31\n",
            "\n",
            "======== Epoch 4 / 4 ========\n",
            "Training...\n",
            "  Batch    40  of    446.    Elapsed: 0:01:07.\n",
            "  Batch    80  of    446.    Elapsed: 0:02:15.\n",
            "  Batch   120  of    446.    Elapsed: 0:03:22.\n",
            "  Batch   160  of    446.    Elapsed: 0:04:29.\n",
            "  Batch   200  of    446.    Elapsed: 0:05:37.\n",
            "  Batch   240  of    446.    Elapsed: 0:06:44.\n",
            "  Batch   280  of    446.    Elapsed: 0:07:51.\n",
            "  Batch   320  of    446.    Elapsed: 0:08:58.\n",
            "  Batch   360  of    446.    Elapsed: 0:10:06.\n",
            "  Batch   400  of    446.    Elapsed: 0:11:13.\n",
            "  Batch   440  of    446.    Elapsed: 0:12:20.\n",
            "\n",
            "  Average training loss: 0.13\n",
            "  Training epcoh took: 0:12:30\n",
            "\n",
            "Running Validation...\n",
            "  Accuracy: 0.83\n",
            "  Validation took: 0:00:32\n",
            "\n",
            "Training complete!\n"
          ],
          "name": "stdout"
        }
      ]
    },
    {
      "cell_type": "markdown",
      "metadata": {
        "id": "AJxvcXEcDay8",
        "colab_type": "text"
      },
      "source": [
        "## Save the Model:\n",
        "*Code imported from run_glue.py*"
      ]
    },
    {
      "cell_type": "code",
      "metadata": {
        "id": "dJO_WbUoDgu9",
        "colab_type": "code",
        "outputId": "6e8920da-bf24-4b09-c1f6-5f0a7280a803",
        "colab": {
          "base_uri": "https://localhost:8080/",
          "height": 84
        }
      },
      "source": [
        "import os\n",
        "\n",
        "# Saving best-practices: if you use defaults names for the model, you can reload it using from_pretrained()\n",
        "\n",
        "output_dir = './model_save/'\n",
        "\n",
        "# Create output directory if needed\n",
        "if not os.path.exists(output_dir):\n",
        "    os.makedirs(output_dir)\n",
        "\n",
        "print(\"Saving model to %s\" % output_dir)\n",
        "\n",
        "# Save a trained model, configuration and tokenizer using `save_pretrained()`.\n",
        "# They can then be reloaded using `from_pretrained()`\n",
        "model_to_save = model.module if hasattr(model, 'module') else model  # Take care of distributed/parallel training\n",
        "model_to_save.save_pretrained(output_dir)\n",
        "tokenizer.save_pretrained(output_dir)\n",
        "\n",
        "# Good practice: save your training arguments together with the trained model\n",
        "#torch.save(args, os.path.join(output_dir, 'training_args.bin'))"
      ],
      "execution_count": 0,
      "outputs": [
        {
          "output_type": "stream",
          "text": [
            "Saving model to ./model_save/\n"
          ],
          "name": "stdout"
        },
        {
          "output_type": "execute_result",
          "data": {
            "text/plain": [
              "('./model_save/vocab.txt',\n",
              " './model_save/special_tokens_map.json',\n",
              " './model_save/added_tokens.json')"
            ]
          },
          "metadata": {
            "tags": []
          },
          "execution_count": 24
        }
      ]
    },
    {
      "cell_type": "code",
      "metadata": {
        "id": "CAVDWcs-D10D",
        "colab_type": "code",
        "outputId": "2be0ea7f-58fc-4d90-e68d-51a051d3eb73",
        "colab": {
          "base_uri": "https://localhost:8080/",
          "height": 121
        }
      },
      "source": [
        "#Save to Google drive\n",
        "from google.colab import drive\n",
        "drive.mount('/content/drive')"
      ],
      "execution_count": 0,
      "outputs": [
        {
          "output_type": "stream",
          "text": [
            "Go to this URL in a browser: https://accounts.google.com/o/oauth2/auth?client_id=947318989803-6bn6qk8qdgf4n4g3pfee6491hc0brc4i.apps.googleusercontent.com&redirect_uri=urn%3aietf%3awg%3aoauth%3a2.0%3aoob&response_type=code&scope=email%20https%3a%2f%2fwww.googleapis.com%2fauth%2fdocs.test%20https%3a%2f%2fwww.googleapis.com%2fauth%2fdrive%20https%3a%2f%2fwww.googleapis.com%2fauth%2fdrive.photos.readonly%20https%3a%2f%2fwww.googleapis.com%2fauth%2fpeopleapi.readonly\n",
            "\n",
            "Enter your authorization code:\n",
            "··········\n",
            "Mounted at /content/drive\n"
          ],
          "name": "stdout"
        }
      ]
    },
    {
      "cell_type": "code",
      "metadata": {
        "id": "W7Hxul1lD7fB",
        "colab_type": "code",
        "colab": {}
      },
      "source": [
        "!cp -r ./model_save/ \"./drive/My Drive/Saved Models/\""
      ],
      "execution_count": 0,
      "outputs": []
    },
    {
      "cell_type": "markdown",
      "metadata": {
        "id": "VuoCnR7EspFC",
        "colab_type": "text"
      },
      "source": [
        "## Predictions and Evaluation from the Tuned BERT model"
      ]
    },
    {
      "cell_type": "markdown",
      "metadata": {
        "id": "ZDLizfBAzPBZ",
        "colab_type": "text"
      },
      "source": [
        "### Process Holdout Data"
      ]
    },
    {
      "cell_type": "code",
      "metadata": {
        "id": "soRzOlvhsuZo",
        "colab_type": "code",
        "colab": {}
      },
      "source": [
        "# Test data is test_tweets and test_labels\n",
        "\n",
        "input_ids = []\n",
        "\n",
        "\n",
        "for tweet in test_tweets:\n",
        "    encoded_tweet = tokenizer.encode(\n",
        "                        tweet,                      \n",
        "                        add_special_tokens = True, # Add '[CLS]' and '[SEP]'\n",
        "                   )\n",
        "    \n",
        "    input_ids.append(encoded_tweet)\n",
        "\n",
        "# Same Max Length as above - 284\n",
        "MAX_LEN = 284\n",
        "\n",
        "# Pad our input tokens\n",
        "input_ids = pad_sequences(input_ids, maxlen=MAX_LEN, \n",
        "                          dtype=\"long\", truncating=\"post\", padding=\"post\")\n",
        "\n",
        "# Create attention masks\n",
        "attention_masks = []\n",
        "\n",
        "# Create a mask of 1s for each token followed by 0s for padding\n",
        "for seq in input_ids:\n",
        "  seq_mask = [float(i>0) for i in seq]\n",
        "  attention_masks.append(seq_mask) \n",
        "\n",
        "# Convert to tensors.\n",
        "prediction_inputs = torch.tensor(input_ids)\n",
        "prediction_masks = torch.tensor(attention_masks)\n",
        "prediction_labels = torch.tensor(test_labels)\n",
        "\n",
        "# Set the batch size.  \n",
        "batch_size = 32  \n",
        "\n",
        "# Create the DataLoader.\n",
        "prediction_data = TensorDataset(prediction_inputs, prediction_masks, prediction_labels)\n",
        "prediction_sampler = SequentialSampler(prediction_data)\n",
        "prediction_dataloader = DataLoader(prediction_data, sampler=prediction_sampler, batch_size=batch_size)"
      ],
      "execution_count": 0,
      "outputs": []
    },
    {
      "cell_type": "markdown",
      "metadata": {
        "id": "sjdzMJBh2fMd",
        "colab_type": "text"
      },
      "source": [
        "### Load the Model from Google Drive (so we dont have to retrain)"
      ]
    },
    {
      "cell_type": "code",
      "metadata": {
        "id": "_RXvdnHs2kfH",
        "colab_type": "code",
        "colab": {}
      },
      "source": [
        "from torch import nn\n",
        "\n",
        "model_dir = \"./drive/My Drive/Saved Models/model_save/\"\n",
        "\n",
        "model = BertForSequenceClassification.from_pretrained(model_dir)\n",
        "tokenizer = BertTokenizer.from_pretrained(model_dir)\n",
        "\n",
        "# Copy the model to the GPU.\n",
        "model.to(device)"
      ],
      "execution_count": 0,
      "outputs": []
    },
    {
      "cell_type": "markdown",
      "metadata": {
        "id": "NuPfbGwT3T1f",
        "colab_type": "text"
      },
      "source": [
        "### Getting Predictions"
      ]
    },
    {
      "cell_type": "code",
      "metadata": {
        "id": "ikzFV3FG3cxk",
        "colab_type": "code",
        "outputId": "4ea0cc86-aca2-4275-d5ba-8d4e2ca9dba4",
        "colab": {
          "base_uri": "https://localhost:8080/",
          "height": 50
        }
      },
      "source": [
        "\n",
        "\n",
        "print('Predicting labels for {:,} test tweets...'.format(len(prediction_inputs)))\n",
        "\n",
        "# Put model in evaluation mode\n",
        "model.eval()\n",
        "\n",
        "# Tracking variables \n",
        "predictions , true_labels = [], []\n",
        "\n",
        "# Predict \n",
        "for batch in prediction_dataloader:\n",
        "  # Add batch to GPU\n",
        "  batch = tuple(t.to(device) for t in batch)\n",
        "  \n",
        "  # Unpack the inputs from our dataloader\n",
        "  b_input_ids, b_input_mask, b_labels = batch\n",
        "  \n",
        "  # Telling the model not to compute or store gradients, saving memory and \n",
        "  # speeding up prediction\n",
        "  with torch.no_grad():\n",
        "      # Forward pass, calculate logit predictions\n",
        "      outputs = model(b_input_ids, token_type_ids=None, \n",
        "                      attention_mask=b_input_mask)\n",
        "\n",
        "  logits = outputs[0]\n",
        "\n",
        "  # Move logits and labels to CPU\n",
        "  logits = logits.detach().cpu().numpy()\n",
        "  label_ids = b_labels.to('cpu').numpy()\n",
        "  \n",
        "  # Store predictions and true labels\n",
        "  predictions.append(logits)\n",
        "  true_labels.append(label_ids)\n",
        "\n",
        "print('Done!')"
      ],
      "execution_count": 0,
      "outputs": [
        {
          "output_type": "stream",
          "text": [
            "Predicting labels for 15,682 test tweets...\n",
            "Done!\n"
          ],
          "name": "stdout"
        }
      ]
    },
    {
      "cell_type": "markdown",
      "metadata": {
        "id": "6PM6ILryV_4I",
        "colab_type": "text"
      },
      "source": [
        "### Evaluate BERT Model\n",
        "\n",
        " - taking predictions from the BERT is a bit tricky because the output in this case is the logit prediction of the texts semantic meaning\n",
        " - we have to convert all of it to one array of predictions"
      ]
    },
    {
      "cell_type": "code",
      "metadata": {
        "id": "U1FnwpoRWjKE",
        "colab_type": "code",
        "colab": {}
      },
      "source": [
        "# Combine the predictions for each batch into a single list of 0 and 1 preds\n",
        "flat_predictions = [item for sublist in predictions for item in sublist]\n",
        "flat_predictions = np.argmax(flat_predictions, axis=1).flatten()\n",
        "\n",
        "# Combine the correct labels for each batch into a single list\n",
        "flat_true_labels = [item for sublist in true_labels for item in sublist]\n"
      ],
      "execution_count": 0,
      "outputs": []
    },
    {
      "cell_type": "markdown",
      "metadata": {
        "id": "AelLJldtWt3T",
        "colab_type": "text"
      },
      "source": [
        "Lets look at the Precision, Recall, F1, and Accuracy Report"
      ]
    },
    {
      "cell_type": "code",
      "metadata": {
        "id": "mO2DwaR-W3W9",
        "colab_type": "code",
        "outputId": "90d4a9cb-0871-4801-ba8d-8fa2fb21baa7",
        "colab": {
          "base_uri": "https://localhost:8080/",
          "height": 168
        }
      },
      "source": [
        "from sklearn import metrics\n",
        "print(metrics.classification_report(flat_true_labels, flat_predictions, digits=3))"
      ],
      "execution_count": 0,
      "outputs": [
        {
          "output_type": "stream",
          "text": [
            "              precision    recall  f1-score   support\n",
            "\n",
            "           0      0.831     0.831     0.831      7862\n",
            "           1      0.830     0.830     0.830      7820\n",
            "\n",
            "    accuracy                          0.830     15682\n",
            "   macro avg      0.830     0.830     0.830     15682\n",
            "weighted avg      0.830     0.830     0.830     15682\n",
            "\n"
          ],
          "name": "stdout"
        }
      ]
    },
    {
      "cell_type": "markdown",
      "metadata": {
        "id": "gJRb3S3KW9FJ",
        "colab_type": "text"
      },
      "source": [
        "83%! Thats around 10% better than the SVC we trained. The model is around 20% better than the SVC at predicting the semantic labels when compared to random (50%).\n",
        "\n",
        "Lets Look at the Matthews Correlation Coefficient now\n"
      ]
    },
    {
      "cell_type": "code",
      "metadata": {
        "id": "wPMWvuK-T-KR",
        "colab_type": "code",
        "outputId": "07109bf0-4fe7-4a56-d66d-ebd9b023d9aa",
        "colab": {
          "base_uri": "https://localhost:8080/",
          "height": 34
        }
      },
      "source": [
        "from sklearn.metrics import matthews_corrcoef\n",
        "\n",
        "# Calculate the MCC\n",
        "mcc = matthews_corrcoef(flat_true_labels, flat_predictions)\n",
        "\n",
        "print('MCC: %.3f' % mcc)"
      ],
      "execution_count": 0,
      "outputs": [
        {
          "output_type": "stream",
          "text": [
            "MCC: 0.661\n"
          ],
          "name": "stdout"
        }
      ]
    },
    {
      "cell_type": "markdown",
      "metadata": {
        "colab_type": "text",
        "id": "ZIJo2agv4rDZ"
      },
      "source": [
        "0.661 is pretty good, up from .467 with the SVC\n",
        "\n",
        "Now we can plot the Area Under the Curve (AUC) / ROC Curve."
      ]
    },
    {
      "cell_type": "code",
      "metadata": {
        "colab_type": "code",
        "outputId": "c941061d-5e7f-46fc-8aa9-9debe9e0c2a0",
        "id": "Ayakzb144rDa",
        "colab": {
          "base_uri": "https://localhost:8080/",
          "height": 295
        }
      },
      "source": [
        "import matplotlib.pyplot as plt\n",
        "\n",
        "# Retrieve the ROC/AUC\n",
        "fpr, tpr, threshold = metrics.roc_curve(flat_true_labels, flat_predictions)\n",
        "roc_auc = metrics.auc(fpr, tpr)\n",
        "\n",
        "\n",
        "# Plot the ROC/AUC\n",
        "plt.title('Receiver Operating Characteristic')\n",
        "plt.plot(fpr, tpr, 'b', label = 'AUC = %0.2f' % roc_auc)\n",
        "plt.legend(loc = 'lower right')\n",
        "plt.plot([0, 1], [0, 1],'r--')\n",
        "plt.xlim([0, 1])\n",
        "plt.ylim([0, 1])\n",
        "plt.ylabel('True Positive Rate')\n",
        "plt.xlabel('False Positive Rate')\n",
        "plt.show()\n"
      ],
      "execution_count": 0,
      "outputs": [
        {
          "output_type": "display_data",
          "data": {
            "image/png": "[encoded data removed]",
            "text/plain": [
              "<Figure size 432x288 with 1 Axes>"
            ]
          },
          "metadata": {
            "tags": []
          }
        }
      ]
    },
    {
      "cell_type": "markdown",
      "metadata": {
        "colab_type": "text",
        "id": "Y-ZF2G764rDf"
      },
      "source": [
        "Thats a pretty nice looking ROC Curve, right there! Especially considering the model was only trained on 15000 tweets. \n",
        "\n",
        "\n"
      ]
    },
    {
      "cell_type": "markdown",
      "metadata": {
        "id": "S-7tIkWWXyTD",
        "colab_type": "text"
      },
      "source": [
        "# Conclusion and Insights"
      ]
    },
    {
      "cell_type": "markdown",
      "metadata": {
        "id": "LIXA00LPX1mG",
        "colab_type": "text"
      },
      "source": [
        "### *Heres a few considerations before I draw insights:*\n",
        " - *The SVC performed well and could have performed better if I spent a good amount of time hyper tuning the parameters.*\n",
        " - *The BERT model is the base/small version and it could have been tuned a little more if I had the time and knowledge to do so.*\n",
        " - *I am by no means an expert in using BERT for NLP, rather I am a data science student with significant room to improve.*\n",
        " - *I used various online and academic resources to build this project and was by no means done on my own.*\n",
        " "
      ]
    },
    {
      "cell_type": "markdown",
      "metadata": {
        "id": "Pr-bpBsCdB3A",
        "colab_type": "text"
      },
      "source": [
        "### Comparatively, our predictions are incredibly accurate for only training on 15000 tweets.\n",
        " - For example, the [Kaggle Competition](https://www.kaggle.com/c/epfml-text/leaderboard) winner for semantic analysis of tweets achieved a validation score of **87.66%** (albeit 3 years ago). As well, they trained on **2.5 million** tweets, compared to our **15000**. \n",
        " - Considering that, I hope you begin to realize the power of transfer learning combined with the state-of-the-art models.\n"
      ]
    },
    {
      "cell_type": "markdown",
      "metadata": {
        "id": "PEvQTPusYW_6",
        "colab_type": "text"
      },
      "source": [
        "### This project really highlights the power of Transfer learning for several reasons:\n",
        " - Most non-neural net models are pretty good when being trained on lower amounts of training data (less than 100,000 maybe) when compared to neural nets (which require a lot of data to really get good, but scale much better with more information).\n",
        " - Because of taking a pre-trained model and tuning only the top layer or neurons on this specific task, we can use the power of neural nets with limited amounts of data.\n",
        " - Transfer learning helps avoid the **Cold-start problem** that comes with neural nets, meaning we dont have to spend enourmous amounts of **time** and **moeny** to train a top of the line neural net from scratch.\n",
        " "
      ]
    },
    {
      "cell_type": "markdown",
      "metadata": {
        "id": "BE02G3lsZvXk",
        "colab_type": "text"
      },
      "source": [
        "### By using transfer learning, people and companies can utilize state-of-the-art deep learning models to make predictions without having to obtain enourmous amounts of data to train them.\n",
        " - All you need is a pretrained model and you can implement it on limited data problems.\n",
        " - This can help companies without a history of data collection or within new industries utilize the best machine learning algorithms like never before."
      ]
    },
    {
      "cell_type": "markdown",
      "metadata": {
        "id": "pMuNfDYzagol",
        "colab_type": "text"
      },
      "source": [
        "### All that being said, the more we train this model the better it will do! That takes time and money I do not have as a graduate student (at the time of this writing)."
      ]
    },
    {
      "cell_type": "markdown",
      "metadata": {
        "id": "hLaRYa2iawGB",
        "colab_type": "text"
      },
      "source": [
        "# Thank you!"
      ]
    }
  ]
}